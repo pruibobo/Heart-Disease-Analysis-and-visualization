{
 "cells": [
  {
   "cell_type": "markdown",
   "id": "basic-acting",
   "metadata": {
    "id": "cSnb4uWmuT-b",
    "papermill": {
     "duration": 0.01376,
     "end_time": "2021-05-03T02:17:29.710362",
     "exception": false,
     "start_time": "2021-05-03T02:17:29.696602",
     "status": "completed"
    },
    "tags": []
   },
   "source": [
    "<center><b>Diagnosing Heart Disease</center></b>"
   ]
  },
  {
   "cell_type": "markdown",
   "id": "finnish-violin",
   "metadata": {
    "id": "NtDJh1measNN",
    "papermill": {
     "duration": 0.012296,
     "end_time": "2021-05-03T02:17:29.735324",
     "exception": false,
     "start_time": "2021-05-03T02:17:29.723028",
     "status": "completed"
    },
    "tags": []
   },
   "source": [
    "Diagnosis: The diagnosis of heart disease is done on a combination of clinical signs and test results. The types of tests run will be chosen on the basis of what the physician thinks is going on , ranging from electrocardiograms and cardiac computerized tomography (CT) scans, to blood tests and exercise stress tests ."
   ]
  },
  {
   "cell_type": "markdown",
   "id": "clean-connection",
   "metadata": {
    "id": "R9-tVAX5Y5VQ",
    "papermill": {
     "duration": 0.012365,
     "end_time": "2021-05-03T02:17:29.760219",
     "exception": false,
     "start_time": "2021-05-03T02:17:29.747854",
     "status": "completed"
    },
    "tags": []
   },
   "source": [
    "imports libaraies & loadding data"
   ]
  },
  {
   "cell_type": "code",
   "execution_count": 1,
   "id": "polar-istanbul",
   "metadata": {
    "execution": {
     "iopub.execute_input": "2021-05-03T02:17:29.796800Z",
     "iopub.status.busy": "2021-05-03T02:17:29.796214Z",
     "iopub.status.idle": "2021-05-03T02:17:30.938513Z",
     "shell.execute_reply": "2021-05-03T02:17:30.937793Z"
    },
    "id": "4YhpHyTAQxPS",
    "papermill": {
     "duration": 1.1657,
     "end_time": "2021-05-03T02:17:30.938674",
     "exception": false,
     "start_time": "2021-05-03T02:17:29.772974",
     "status": "completed"
    },
    "tags": []
   },
   "outputs": [],
   "source": [
    "import pandas as pd\n",
    "import numpy as np\n",
    "import scipy.stats as stats\n",
    "import matplotlib.pyplot as plt\n",
    "import seaborn as sns\n",
    "from sklearn.metrics import classification_report\n",
    "from sklearn.model_selection import train_test_split\n",
    "from sklearn.linear_model import LogisticRegression\n",
    "from sklearn.svm import SVC\n",
    "from sklearn.tree import DecisionTreeClassifier\n",
    "from sklearn.linear_model import LogisticRegression\n",
    "from sklearn.ensemble import RandomForestClassifier"
   ]
  },
  {
   "cell_type": "code",
   "execution_count": 2,
   "id": "harmful-testament",
   "metadata": {
    "execution": {
     "iopub.execute_input": "2021-05-03T02:17:30.969550Z",
     "iopub.status.busy": "2021-05-03T02:17:30.968984Z",
     "iopub.status.idle": "2021-05-03T02:17:31.006282Z",
     "shell.execute_reply": "2021-05-03T02:17:31.006702Z"
    },
    "id": "zG5eNSxYXfKI",
    "outputId": "6970e644-945e-49cb-9529-66edb53da574",
    "papermill": {
     "duration": 0.054908,
     "end_time": "2021-05-03T02:17:31.006854",
     "exception": false,
     "start_time": "2021-05-03T02:17:30.951946",
     "status": "completed"
    },
    "tags": []
   },
   "outputs": [
    {
     "data": {
      "text/html": [
       "<div>\n",
       "<style scoped>\n",
       "    .dataframe tbody tr th:only-of-type {\n",
       "        vertical-align: middle;\n",
       "    }\n",
       "\n",
       "    .dataframe tbody tr th {\n",
       "        vertical-align: top;\n",
       "    }\n",
       "\n",
       "    .dataframe thead th {\n",
       "        text-align: right;\n",
       "    }\n",
       "</style>\n",
       "<table border=\"1\" class=\"dataframe\">\n",
       "  <thead>\n",
       "    <tr style=\"text-align: right;\">\n",
       "      <th></th>\n",
       "      <th>age</th>\n",
       "      <th>sex</th>\n",
       "      <th>cp</th>\n",
       "      <th>trestbps</th>\n",
       "      <th>chol</th>\n",
       "      <th>fbs</th>\n",
       "      <th>restecg</th>\n",
       "      <th>thalach</th>\n",
       "      <th>exang</th>\n",
       "      <th>oldpeak</th>\n",
       "      <th>slope</th>\n",
       "      <th>ca</th>\n",
       "      <th>thal</th>\n",
       "      <th>target</th>\n",
       "    </tr>\n",
       "  </thead>\n",
       "  <tbody>\n",
       "    <tr>\n",
       "      <th>0</th>\n",
       "      <td>63</td>\n",
       "      <td>1</td>\n",
       "      <td>3</td>\n",
       "      <td>145</td>\n",
       "      <td>233</td>\n",
       "      <td>1</td>\n",
       "      <td>0</td>\n",
       "      <td>150</td>\n",
       "      <td>0</td>\n",
       "      <td>2.3</td>\n",
       "      <td>0</td>\n",
       "      <td>0</td>\n",
       "      <td>1</td>\n",
       "      <td>1</td>\n",
       "    </tr>\n",
       "    <tr>\n",
       "      <th>1</th>\n",
       "      <td>37</td>\n",
       "      <td>1</td>\n",
       "      <td>2</td>\n",
       "      <td>130</td>\n",
       "      <td>250</td>\n",
       "      <td>0</td>\n",
       "      <td>1</td>\n",
       "      <td>187</td>\n",
       "      <td>0</td>\n",
       "      <td>3.5</td>\n",
       "      <td>0</td>\n",
       "      <td>0</td>\n",
       "      <td>2</td>\n",
       "      <td>1</td>\n",
       "    </tr>\n",
       "    <tr>\n",
       "      <th>2</th>\n",
       "      <td>41</td>\n",
       "      <td>0</td>\n",
       "      <td>1</td>\n",
       "      <td>130</td>\n",
       "      <td>204</td>\n",
       "      <td>0</td>\n",
       "      <td>0</td>\n",
       "      <td>172</td>\n",
       "      <td>0</td>\n",
       "      <td>1.4</td>\n",
       "      <td>2</td>\n",
       "      <td>0</td>\n",
       "      <td>2</td>\n",
       "      <td>1</td>\n",
       "    </tr>\n",
       "    <tr>\n",
       "      <th>3</th>\n",
       "      <td>56</td>\n",
       "      <td>1</td>\n",
       "      <td>1</td>\n",
       "      <td>120</td>\n",
       "      <td>236</td>\n",
       "      <td>0</td>\n",
       "      <td>1</td>\n",
       "      <td>178</td>\n",
       "      <td>0</td>\n",
       "      <td>0.8</td>\n",
       "      <td>2</td>\n",
       "      <td>0</td>\n",
       "      <td>2</td>\n",
       "      <td>1</td>\n",
       "    </tr>\n",
       "    <tr>\n",
       "      <th>4</th>\n",
       "      <td>57</td>\n",
       "      <td>0</td>\n",
       "      <td>0</td>\n",
       "      <td>120</td>\n",
       "      <td>354</td>\n",
       "      <td>0</td>\n",
       "      <td>1</td>\n",
       "      <td>163</td>\n",
       "      <td>1</td>\n",
       "      <td>0.6</td>\n",
       "      <td>2</td>\n",
       "      <td>0</td>\n",
       "      <td>2</td>\n",
       "      <td>1</td>\n",
       "    </tr>\n",
       "  </tbody>\n",
       "</table>\n",
       "</div>"
      ],
      "text/plain": [
       "   age  sex  cp  trestbps  chol  fbs  restecg  thalach  exang  oldpeak  slope  \\\n",
       "0   63    1   3       145   233    1        0      150      0      2.3      0   \n",
       "1   37    1   2       130   250    0        1      187      0      3.5      0   \n",
       "2   41    0   1       130   204    0        0      172      0      1.4      2   \n",
       "3   56    1   1       120   236    0        1      178      0      0.8      2   \n",
       "4   57    0   0       120   354    0        1      163      1      0.6      2   \n",
       "\n",
       "   ca  thal  target  \n",
       "0   0     1       1  \n",
       "1   0     2       1  \n",
       "2   0     2       1  \n",
       "3   0     2       1  \n",
       "4   0     2       1  "
      ]
     },
     "execution_count": 2,
     "metadata": {},
     "output_type": "execute_result"
    }
   ],
   "source": [
    "#loading data\n",
    "heart_data = pd.read_csv('../input/heart-disease-uci/heart.csv')\n",
    "#take a look\n",
    "heart_data.head()"
   ]
  },
  {
   "cell_type": "code",
   "execution_count": 3,
   "id": "important-landscape",
   "metadata": {
    "execution": {
     "iopub.execute_input": "2021-05-03T02:17:31.037123Z",
     "iopub.status.busy": "2021-05-03T02:17:31.036257Z",
     "iopub.status.idle": "2021-05-03T02:17:31.055961Z",
     "shell.execute_reply": "2021-05-03T02:17:31.056655Z"
    },
    "papermill": {
     "duration": 0.036361,
     "end_time": "2021-05-03T02:17:31.056870",
     "exception": false,
     "start_time": "2021-05-03T02:17:31.020509",
     "status": "completed"
    },
    "tags": []
   },
   "outputs": [
    {
     "name": "stdout",
     "output_type": "stream",
     "text": [
      "<class 'pandas.core.frame.DataFrame'>\n",
      "RangeIndex: 303 entries, 0 to 302\n",
      "Data columns (total 14 columns):\n",
      " #   Column    Non-Null Count  Dtype  \n",
      "---  ------    --------------  -----  \n",
      " 0   age       303 non-null    int64  \n",
      " 1   sex       303 non-null    int64  \n",
      " 2   cp        303 non-null    int64  \n",
      " 3   trestbps  303 non-null    int64  \n",
      " 4   chol      303 non-null    int64  \n",
      " 5   fbs       303 non-null    int64  \n",
      " 6   restecg   303 non-null    int64  \n",
      " 7   thalach   303 non-null    int64  \n",
      " 8   exang     303 non-null    int64  \n",
      " 9   oldpeak   303 non-null    float64\n",
      " 10  slope     303 non-null    int64  \n",
      " 11  ca        303 non-null    int64  \n",
      " 12  thal      303 non-null    int64  \n",
      " 13  target    303 non-null    int64  \n",
      "dtypes: float64(1), int64(13)\n",
      "memory usage: 33.3 KB\n"
     ]
    }
   ],
   "source": [
    "heart_data.info()"
   ]
  },
  {
   "cell_type": "markdown",
   "id": "verified-rwanda",
   "metadata": {
    "id": "h_Xb3ojXaxr0",
    "papermill": {
     "duration": 0.013522,
     "end_time": "2021-05-03T02:17:31.084734",
     "exception": false,
     "start_time": "2021-05-03T02:17:31.071212",
     "status": "completed"
    },
    "tags": []
   },
   "source": [
    "Split data into feature data & target data"
   ]
  },
  {
   "cell_type": "code",
   "execution_count": 4,
   "id": "dominant-diana",
   "metadata": {
    "execution": {
     "iopub.execute_input": "2021-05-03T02:17:31.119120Z",
     "iopub.status.busy": "2021-05-03T02:17:31.118537Z",
     "iopub.status.idle": "2021-05-03T02:17:31.121035Z",
     "shell.execute_reply": "2021-05-03T02:17:31.121465Z"
    },
    "id": "O7wR5hU0Zn_d",
    "papermill": {
     "duration": 0.02316,
     "end_time": "2021-05-03T02:17:31.121625",
     "exception": false,
     "start_time": "2021-05-03T02:17:31.098465",
     "status": "completed"
    },
    "tags": []
   },
   "outputs": [],
   "source": [
    "x = heart_data.drop('target',axis=1)\n",
    "y = heart_data.target"
   ]
  },
  {
   "cell_type": "markdown",
   "id": "signal-makeup",
   "metadata": {
    "id": "P2QT0daW0RAN",
    "papermill": {
     "duration": 0.013513,
     "end_time": "2021-05-03T02:17:31.148938",
     "exception": false,
     "start_time": "2021-05-03T02:17:31.135425",
     "status": "completed"
    },
    "tags": []
   },
   "source": [
    "Data cleaning"
   ]
  },
  {
   "cell_type": "markdown",
   "id": "german-malawi",
   "metadata": {
    "id": "2jlyKATE0yKG",
    "papermill": {
     "duration": 0.013498,
     "end_time": "2021-05-03T02:17:31.176251",
     "exception": false,
     "start_time": "2021-05-03T02:17:31.162753",
     "status": "completed"
    },
    "tags": []
   },
   "source": [
    "Detect null value"
   ]
  },
  {
   "cell_type": "code",
   "execution_count": 5,
   "id": "assumed-librarian",
   "metadata": {
    "execution": {
     "iopub.execute_input": "2021-05-03T02:17:31.211530Z",
     "iopub.status.busy": "2021-05-03T02:17:31.210745Z",
     "iopub.status.idle": "2021-05-03T02:17:31.214035Z",
     "shell.execute_reply": "2021-05-03T02:17:31.214479Z"
    },
    "id": "VQ4wVln80qo9",
    "outputId": "db782457-aa03-4051-ae92-26c0ebcdebe7",
    "papermill": {
     "duration": 0.024694,
     "end_time": "2021-05-03T02:17:31.214635",
     "exception": false,
     "start_time": "2021-05-03T02:17:31.189941",
     "status": "completed"
    },
    "tags": []
   },
   "outputs": [
    {
     "data": {
      "text/plain": [
       "age         0\n",
       "sex         0\n",
       "cp          0\n",
       "trestbps    0\n",
       "chol        0\n",
       "fbs         0\n",
       "restecg     0\n",
       "thalach     0\n",
       "exang       0\n",
       "oldpeak     0\n",
       "slope       0\n",
       "ca          0\n",
       "thal        0\n",
       "dtype: int64"
      ]
     },
     "execution_count": 5,
     "metadata": {},
     "output_type": "execute_result"
    }
   ],
   "source": [
    "x.isna().sum()"
   ]
  },
  {
   "cell_type": "markdown",
   "id": "unlike-stocks",
   "metadata": {
    "id": "Dm8ZGVV41s4D",
    "papermill": {
     "duration": 0.014174,
     "end_time": "2021-05-03T02:17:31.244792",
     "exception": false,
     "start_time": "2021-05-03T02:17:31.230618",
     "status": "completed"
    },
    "tags": []
   },
   "source": [
    "Split data into train & test data"
   ]
  },
  {
   "cell_type": "code",
   "execution_count": 6,
   "id": "progressive-commission",
   "metadata": {
    "execution": {
     "iopub.execute_input": "2021-05-03T02:17:31.276776Z",
     "iopub.status.busy": "2021-05-03T02:17:31.275890Z",
     "iopub.status.idle": "2021-05-03T02:17:31.283763Z",
     "shell.execute_reply": "2021-05-03T02:17:31.284187Z"
    },
    "id": "W_-Ex1Sbbgif",
    "papermill": {
     "duration": 0.025285,
     "end_time": "2021-05-03T02:17:31.284351",
     "exception": false,
     "start_time": "2021-05-03T02:17:31.259066",
     "status": "completed"
    },
    "tags": []
   },
   "outputs": [],
   "source": [
    "x_train , x_test , y_train , y_test = train_test_split( x , y , test_size=0.2 , random_state = 42 , stratify = y)"
   ]
  },
  {
   "cell_type": "markdown",
   "id": "regulation-nevada",
   "metadata": {
    "id": "RFvzYuZlegGt",
    "papermill": {
     "duration": 0.013914,
     "end_time": "2021-05-03T02:17:31.312369",
     "exception": false,
     "start_time": "2021-05-03T02:17:31.298455",
     "status": "completed"
    },
    "tags": []
   },
   "source": [
    "Models"
   ]
  },
  {
   "cell_type": "code",
   "execution_count": 7,
   "id": "pleasant-circulation",
   "metadata": {
    "execution": {
     "iopub.execute_input": "2021-05-03T02:17:31.344208Z",
     "iopub.status.busy": "2021-05-03T02:17:31.343331Z",
     "iopub.status.idle": "2021-05-03T02:17:31.349467Z",
     "shell.execute_reply": "2021-05-03T02:17:31.349855Z"
    },
    "papermill": {
     "duration": 0.023407,
     "end_time": "2021-05-03T02:17:31.350025",
     "exception": false,
     "start_time": "2021-05-03T02:17:31.326618",
     "status": "completed"
    },
    "tags": []
   },
   "outputs": [],
   "source": [
    "def score(model):\n",
    "    print('Train result : ')\n",
    "    print('=='*20)\n",
    "    print('score for data train : ', log_model.score(x_train , y_train)*100 ,'%')\n",
    "    print('=='*20)\n",
    "    y_pred = model.predict(x_train)\n",
    "    report = classification_report(y_train,y_pred)\n",
    "    print(report)\n",
    "    print('=='*20)\n",
    "    \n",
    "    print('Test result : ')\n",
    "    print('=='*20)\n",
    "    print('score for data test ', log_model.score(x_test , y_test)*100,'%')\n",
    "    print('=='*20)\n",
    "    y_pred = model.predict(x_test)\n",
    "    report = classification_report(y_test,y_pred)\n",
    "    print(report)"
   ]
  },
  {
   "cell_type": "markdown",
   "id": "dried-headquarters",
   "metadata": {
    "papermill": {
     "duration": 0.014501,
     "end_time": "2021-05-03T02:17:31.379016",
     "exception": false,
     "start_time": "2021-05-03T02:17:31.364515",
     "status": "completed"
    },
    "tags": []
   },
   "source": [
    "1. LogisticRegression model"
   ]
  },
  {
   "cell_type": "code",
   "execution_count": 8,
   "id": "controlled-algeria",
   "metadata": {
    "execution": {
     "iopub.execute_input": "2021-05-03T02:17:31.411719Z",
     "iopub.status.busy": "2021-05-03T02:17:31.410832Z",
     "iopub.status.idle": "2021-05-03T02:17:31.421471Z",
     "shell.execute_reply": "2021-05-03T02:17:31.421857Z"
    },
    "papermill": {
     "duration": 0.028453,
     "end_time": "2021-05-03T02:17:31.422028",
     "exception": false,
     "start_time": "2021-05-03T02:17:31.393575",
     "status": "completed"
    },
    "tags": []
   },
   "outputs": [
    {
     "data": {
      "text/plain": [
       "LogisticRegression(solver='liblinear')"
      ]
     },
     "execution_count": 8,
     "metadata": {},
     "output_type": "execute_result"
    }
   ],
   "source": [
    "log_model = LogisticRegression(solver='liblinear')\n",
    "log_model.fit(x_train, y_train)"
   ]
  },
  {
   "cell_type": "code",
   "execution_count": 9,
   "id": "positive-charge",
   "metadata": {
    "execution": {
     "iopub.execute_input": "2021-05-03T02:17:31.455476Z",
     "iopub.status.busy": "2021-05-03T02:17:31.454598Z",
     "iopub.status.idle": "2021-05-03T02:17:31.476000Z",
     "shell.execute_reply": "2021-05-03T02:17:31.476454Z"
    },
    "papermill": {
     "duration": 0.039524,
     "end_time": "2021-05-03T02:17:31.476611",
     "exception": false,
     "start_time": "2021-05-03T02:17:31.437087",
     "status": "completed"
    },
    "tags": []
   },
   "outputs": [
    {
     "name": "stdout",
     "output_type": "stream",
     "text": [
      "Train result : \n",
      "========================================\n",
      "score for data train :  84.29752066115702 %\n",
      "========================================\n",
      "              precision    recall  f1-score   support\n",
      "\n",
      "           0       0.88      0.76      0.82       110\n",
      "           1       0.82      0.91      0.86       132\n",
      "\n",
      "    accuracy                           0.84       242\n",
      "   macro avg       0.85      0.84      0.84       242\n",
      "weighted avg       0.85      0.84      0.84       242\n",
      "\n",
      "========================================\n",
      "Test result : \n",
      "========================================\n",
      "score for data test  80.32786885245902 %\n",
      "========================================\n",
      "              precision    recall  f1-score   support\n",
      "\n",
      "           0       0.86      0.68      0.76        28\n",
      "           1       0.77      0.91      0.83        33\n",
      "\n",
      "    accuracy                           0.80        61\n",
      "   macro avg       0.82      0.79      0.80        61\n",
      "weighted avg       0.81      0.80      0.80        61\n",
      "\n"
     ]
    }
   ],
   "source": [
    "score(log_model)"
   ]
  },
  {
   "cell_type": "markdown",
   "id": "united-ranch",
   "metadata": {
    "id": "vpULDgBFfSoO",
    "papermill": {
     "duration": 0.015195,
     "end_time": "2021-05-03T02:17:31.506531",
     "exception": false,
     "start_time": "2021-05-03T02:17:31.491336",
     "status": "completed"
    },
    "tags": []
   },
   "source": [
    "2. Support Vector machine"
   ]
  },
  {
   "cell_type": "code",
   "execution_count": 10,
   "id": "signal-opportunity",
   "metadata": {
    "execution": {
     "iopub.execute_input": "2021-05-03T02:17:31.540838Z",
     "iopub.status.busy": "2021-05-03T02:17:31.539960Z",
     "iopub.status.idle": "2021-05-03T02:17:31.551165Z",
     "shell.execute_reply": "2021-05-03T02:17:31.551555Z"
    },
    "id": "eO1UHgsVfhyn",
    "papermill": {
     "duration": 0.02976,
     "end_time": "2021-05-03T02:17:31.551719",
     "exception": false,
     "start_time": "2021-05-03T02:17:31.521959",
     "status": "completed"
    },
    "tags": []
   },
   "outputs": [
    {
     "data": {
      "text/plain": [
       "SVC(C=12)"
      ]
     },
     "execution_count": 10,
     "metadata": {},
     "output_type": "execute_result"
    }
   ],
   "source": [
    "svc_model = SVC(C=12)\n",
    "svc_model.fit(x_train , y_train)"
   ]
  },
  {
   "cell_type": "code",
   "execution_count": 11,
   "id": "surface-relationship",
   "metadata": {
    "execution": {
     "iopub.execute_input": "2021-05-03T02:17:31.585809Z",
     "iopub.status.busy": "2021-05-03T02:17:31.584892Z",
     "iopub.status.idle": "2021-05-03T02:17:31.609979Z",
     "shell.execute_reply": "2021-05-03T02:17:31.610456Z"
    },
    "id": "CEiVuVDtf6_d",
    "outputId": "b9aec211-0160-4b12-a4a6-c599f00544f6",
    "papermill": {
     "duration": 0.043502,
     "end_time": "2021-05-03T02:17:31.610614",
     "exception": false,
     "start_time": "2021-05-03T02:17:31.567112",
     "status": "completed"
    },
    "tags": []
   },
   "outputs": [
    {
     "name": "stdout",
     "output_type": "stream",
     "text": [
      "Train result : \n",
      "========================================\n",
      "score for data train :  84.29752066115702 %\n",
      "========================================\n",
      "              precision    recall  f1-score   support\n",
      "\n",
      "           0       0.73      0.60      0.66       110\n",
      "           1       0.71      0.81      0.76       132\n",
      "\n",
      "    accuracy                           0.71       242\n",
      "   macro avg       0.72      0.71      0.71       242\n",
      "weighted avg       0.72      0.71      0.71       242\n",
      "\n",
      "========================================\n",
      "Test result : \n",
      "========================================\n",
      "score for data test  80.32786885245902 %\n",
      "========================================\n",
      "              precision    recall  f1-score   support\n",
      "\n",
      "           0       0.67      0.50      0.57        28\n",
      "           1       0.65      0.79      0.71        33\n",
      "\n",
      "    accuracy                           0.66        61\n",
      "   macro avg       0.66      0.64      0.64        61\n",
      "weighted avg       0.66      0.66      0.65        61\n",
      "\n"
     ]
    }
   ],
   "source": [
    "score(svc_model)"
   ]
  },
  {
   "cell_type": "markdown",
   "id": "wanted-shooting",
   "metadata": {
    "id": "U1MKjir6GJ5E",
    "papermill": {
     "duration": 0.015268,
     "end_time": "2021-05-03T02:17:31.641525",
     "exception": false,
     "start_time": "2021-05-03T02:17:31.626257",
     "status": "completed"
    },
    "tags": []
   },
   "source": [
    "3. Decision Tree "
   ]
  },
  {
   "cell_type": "code",
   "execution_count": 12,
   "id": "occasional-columbia",
   "metadata": {
    "execution": {
     "iopub.execute_input": "2021-05-03T02:17:31.676221Z",
     "iopub.status.busy": "2021-05-03T02:17:31.675332Z",
     "iopub.status.idle": "2021-05-03T02:17:31.684683Z",
     "shell.execute_reply": "2021-05-03T02:17:31.684175Z"
    },
    "id": "HNhpP1TmGrmX",
    "outputId": "7e5cab0e-4da3-4cee-f173-e5502249fc65",
    "papermill": {
     "duration": 0.027584,
     "end_time": "2021-05-03T02:17:31.684816",
     "exception": false,
     "start_time": "2021-05-03T02:17:31.657232",
     "status": "completed"
    },
    "tags": []
   },
   "outputs": [
    {
     "data": {
      "text/plain": [
       "DecisionTreeClassifier(max_depth=4)"
      ]
     },
     "execution_count": 12,
     "metadata": {},
     "output_type": "execute_result"
    }
   ],
   "source": [
    "Decision_model = DecisionTreeClassifier(max_depth=4)\n",
    "Decision_model.fit(x_train , y_train)"
   ]
  },
  {
   "cell_type": "code",
   "execution_count": 13,
   "id": "varied-bradley",
   "metadata": {
    "execution": {
     "iopub.execute_input": "2021-05-03T02:17:31.720619Z",
     "iopub.status.busy": "2021-05-03T02:17:31.720023Z",
     "iopub.status.idle": "2021-05-03T02:17:31.741877Z",
     "shell.execute_reply": "2021-05-03T02:17:31.742308Z"
    },
    "id": "AqOz5hSdHyrb",
    "outputId": "a9a4fd5a-16c3-48d7-81d7-1d2680b58c2b",
    "papermill": {
     "duration": 0.040799,
     "end_time": "2021-05-03T02:17:31.742504",
     "exception": false,
     "start_time": "2021-05-03T02:17:31.701705",
     "status": "completed"
    },
    "tags": []
   },
   "outputs": [
    {
     "name": "stdout",
     "output_type": "stream",
     "text": [
      "Train result : \n",
      "========================================\n",
      "score for data train :  84.29752066115702 %\n",
      "========================================\n",
      "              precision    recall  f1-score   support\n",
      "\n",
      "           0       0.93      0.85      0.89       110\n",
      "           1       0.89      0.95      0.92       132\n",
      "\n",
      "    accuracy                           0.90       242\n",
      "   macro avg       0.91      0.90      0.90       242\n",
      "weighted avg       0.91      0.90      0.90       242\n",
      "\n",
      "========================================\n",
      "Test result : \n",
      "========================================\n",
      "score for data test  80.32786885245902 %\n",
      "========================================\n",
      "              precision    recall  f1-score   support\n",
      "\n",
      "           0       0.87      0.71      0.78        28\n",
      "           1       0.79      0.91      0.85        33\n",
      "\n",
      "    accuracy                           0.82        61\n",
      "   macro avg       0.83      0.81      0.81        61\n",
      "weighted avg       0.83      0.82      0.82        61\n",
      "\n"
     ]
    }
   ],
   "source": [
    "score(Decision_model)"
   ]
  },
  {
   "cell_type": "markdown",
   "id": "fluid-identifier",
   "metadata": {
    "id": "DMXNBqaXKlEF",
    "papermill": {
     "duration": 0.016507,
     "end_time": "2021-05-03T02:17:31.775537",
     "exception": false,
     "start_time": "2021-05-03T02:17:31.759030",
     "status": "completed"
    },
    "tags": []
   },
   "source": [
    "4. Random Forest Classifier "
   ]
  },
  {
   "cell_type": "code",
   "execution_count": 14,
   "id": "hairy-reader",
   "metadata": {
    "execution": {
     "iopub.execute_input": "2021-05-03T02:17:31.812004Z",
     "iopub.status.busy": "2021-05-03T02:17:31.811473Z",
     "iopub.status.idle": "2021-05-03T02:17:31.954942Z",
     "shell.execute_reply": "2021-05-03T02:17:31.954442Z"
    },
    "id": "OlWYyEr5H3y7",
    "outputId": "b2fa96c5-fa8e-4a65-936a-a33f57cd6f91",
    "papermill": {
     "duration": 0.162693,
     "end_time": "2021-05-03T02:17:31.955084",
     "exception": false,
     "start_time": "2021-05-03T02:17:31.792391",
     "status": "completed"
    },
    "tags": []
   },
   "outputs": [
    {
     "data": {
      "text/plain": [
       "RandomForestClassifier(max_depth=4)"
      ]
     },
     "execution_count": 14,
     "metadata": {},
     "output_type": "execute_result"
    }
   ],
   "source": [
    "rand_forest_model = RandomForestClassifier(max_depth = 4)\n",
    "rand_forest_model.fit(x_train, y_train)"
   ]
  },
  {
   "cell_type": "code",
   "execution_count": 15,
   "id": "adjusted-brunswick",
   "metadata": {
    "execution": {
     "iopub.execute_input": "2021-05-03T02:17:31.996355Z",
     "iopub.status.busy": "2021-05-03T02:17:31.995756Z",
     "iopub.status.idle": "2021-05-03T02:17:32.035369Z",
     "shell.execute_reply": "2021-05-03T02:17:32.035800Z"
    },
    "id": "OXUwiW2xK1Di",
    "outputId": "17df8dcb-42de-45b3-98f8-c0620a3644f7",
    "papermill": {
     "duration": 0.064054,
     "end_time": "2021-05-03T02:17:32.035970",
     "exception": false,
     "start_time": "2021-05-03T02:17:31.971916",
     "status": "completed"
    },
    "tags": []
   },
   "outputs": [
    {
     "name": "stdout",
     "output_type": "stream",
     "text": [
      "Train result : \n",
      "========================================\n",
      "score for data train :  84.29752066115702 %\n",
      "========================================\n",
      "              precision    recall  f1-score   support\n",
      "\n",
      "           0       0.95      0.87      0.91       110\n",
      "           1       0.90      0.96      0.93       132\n",
      "\n",
      "    accuracy                           0.92       242\n",
      "   macro avg       0.93      0.92      0.92       242\n",
      "weighted avg       0.92      0.92      0.92       242\n",
      "\n",
      "========================================\n",
      "Test result : \n",
      "========================================\n",
      "score for data test  80.32786885245902 %\n",
      "========================================\n",
      "              precision    recall  f1-score   support\n",
      "\n",
      "           0       0.90      0.64      0.75        28\n",
      "           1       0.76      0.94      0.84        33\n",
      "\n",
      "    accuracy                           0.80        61\n",
      "   macro avg       0.83      0.79      0.79        61\n",
      "weighted avg       0.82      0.80      0.80        61\n",
      "\n"
     ]
    }
   ],
   "source": [
    "score(rand_forest_model)"
   ]
  },
  {
   "cell_type": "code",
   "execution_count": null,
   "id": "posted-camel",
   "metadata": {
    "papermill": {
     "duration": 0.016987,
     "end_time": "2021-05-03T02:17:32.070454",
     "exception": false,
     "start_time": "2021-05-03T02:17:32.053467",
     "status": "completed"
    },
    "tags": []
   },
   "outputs": [],
   "source": []
  }
 ],
 "metadata": {
  "kernelspec": {
   "display_name": "Python 3",
   "language": "python",
   "name": "python3"
  },
  "language_info": {
   "codemirror_mode": {
    "name": "ipython",
    "version": 3
   },
   "file_extension": ".py",
   "mimetype": "text/x-python",
   "name": "python",
   "nbconvert_exporter": "python",
   "pygments_lexer": "ipython3",
   "version": "3.7.10"
  },
  "papermill": {
   "default_parameters": {},
   "duration": 10.757385,
   "end_time": "2021-05-03T02:17:33.700146",
   "environment_variables": {},
   "exception": null,
   "input_path": "__notebook__.ipynb",
   "output_path": "__notebook__.ipynb",
   "parameters": {},
   "start_time": "2021-05-03T02:17:22.942761",
   "version": "2.3.3"
  }
 },
 "nbformat": 4,
 "nbformat_minor": 5
}
